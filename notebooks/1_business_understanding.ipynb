{
 "cells": [
  {
   "cell_type": "markdown",
   "id": "578b9674",
   "metadata": {},
   "source": [
    "## Individual Project - Avocado Dataset\n",
    "### Author: Aryan Khanjani (563751@student.saxion.nl)\n",
    "### Course: DataOps Saxion University of Applied Sciences 2025\n",
    "</br>"
   ]
  },
  {
   "cell_type": "markdown",
   "id": "41542bc5",
   "metadata": {},
   "source": [
    "## Introduction\n",
    "\n",
    "As a small business owner of a avocado online shop, I am affected by the constant price fluctuations in the market. In order to mitiagte the risk of buying my merchandise at a higher price or underselling them, I decided to build a simple model that can predict the average price of avocados for the next month. This can help me gain insight into when it is best to buy or sell avocados. This way, I can increase my revenue and survive in the economy.\n",
    "\n",
    "> The actual purpose of this project is to get familiar with and gain hands-on experience with data science using an Avocado Price dataset.\n",
    "\n",
    "**Source**: [Kaggle](https://www.kaggle.com/datasets/neuromusic/avocado-prices)\n",
    "\n",
    "Throughout this project, I will be using the CRISP-DM methodology to form a well-structured project:\n",
    "\n",
    "1. Business Understanding\n",
    "2. Data Understanding\n",
    "3. Data Preparation\n",
    "4. Modeling\n",
    "5. Business Evaluation\n",
    "\n",
    "---"
   ]
  },
  {
   "cell_type": "markdown",
   "id": "e0b46848",
   "metadata": {},
   "source": [
    "## 1 Business Understanding\n",
    "\n",
    "### 1.1 Business Goals\n",
    "\n",
    "The business goals of this project is to predict the price of Avocados for the next month using historical data with a accuracy of at least 70%.\n",
    "\n",
    "### 1.2 Risks & Contingencies\n",
    "\n",
    "- The provided dataset is not up to date with its description. The dataset is said to have been expanded since 2013, however the earliest record in the dataset is from 2015.\n",
    "- 5 week time constraint does not allow to train a model that takes long hours to train or to fine-tune the model.\n",
    "- Computer's performance is not powerful enough to handle large datasets or to train a model that takes long hours to train.\n",
    "- Model is missing Exogenous features which can cause potential accuracy issues.\n",
    "- I am the only one working on this project, so I will not be able to increase the scope of the project, or possibly finish the current scope.\n",
    "\n",
    "### 1.3 Constraints:\n",
    "\n",
    "- As the dataset is not very large, removing any data (e.g. outliers) should be done as little as possible.\n",
    "- Will not include any external exogenous variables in the model due to time constraints (e.g. weather data, holidays, etc.).\n",
    "- Will not perform refitting, or versioning for the model as these are not the primary focus in this project.\n",
    "- Will not tune the model or perform gird search due to time constraints.\n",
    "\n",
    "### 1.4 Terminology:\n",
    "\n",
    "- PLU (Price Look-Up code): A standardized code used in supermarkets to identify a product.\n",
    "\n",
    "### 1.5 Data Mining Success Criteria\n",
    "\n",
    "- Predict the average avocado price for the next month, measured by Mean Absolute Error (MAE) to be less than 0.2.\n",
    "- The model should be computationally efficient, running in under 1 minutes on a standard laptop.\n",
    "- The model must use at most 70% of the data as training dataset, leaving 30% for testing.\n",
    "\n",
    "### 1.6 Research Questions\n",
    "\n",
    "- How to handle outliers?\n",
    "- How to handle missing values?\n",
    "- How to handle categorical variables?\n",
    "- Is it necessary to scale the data and if so, how to do it?\n",
    "- How to evaluate the model?\n",
    "- How to select the best model?\n",
    "- Are there any other ways to process the data further than what I have learnt in class?\n"
   ]
  }
 ],
 "metadata": {
  "kernelspec": {
   "display_name": ".venv",
   "language": "python",
   "name": "python3"
  },
  "language_info": {
   "codemirror_mode": {
    "name": "ipython",
    "version": 3
   },
   "file_extension": ".py",
   "mimetype": "text/x-python",
   "name": "python",
   "nbconvert_exporter": "python",
   "pygments_lexer": "ipython3",
   "version": "3.12.6"
  }
 },
 "nbformat": 4,
 "nbformat_minor": 5
}
