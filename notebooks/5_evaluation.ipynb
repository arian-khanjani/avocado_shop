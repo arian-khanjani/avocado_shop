{
 "cells": [
  {
   "cell_type": "markdown",
   "metadata": {},
   "source": [
    "## 5 Business Evaluation\n",
    "\n",
    "---\n",
    "\n",
    "### Model Performance vs. Business Goals\n",
    "\n",
    "**SARIMAX Model**\n",
    "\n",
    "- **Target MAE:** < 0.2\n",
    "- **Achieved MAE:** 0.1395\n",
    "- **Conclusion:** Model meets accuracy requirements.\n",
    "\n",
    "**Prophet Model**\n",
    "\n",
    "- **Target MAE:** < 0.2\n",
    "- **Achieved MAE:** 0.3901\n",
    "- **Conclusion:** Model <em>does not</em> meet the accuracy requirements.\n",
    "\n",
    "The trained SARIMAX model is able to predict the price of avocados for the next month with an MAE of 0.1395, using all the prepared features with an accuracy of 86.05%.\n",
    "\n",
    "### Interpretation of SARIMAX Model Results\n",
    "\n",
    "- Prices show seasonal trends.\n",
    "- Forecasts almost closely align with historical data, making them relatively reliable.\n",
    "\n",
    "### Business Impact Analysis\n",
    "\n",
    "- Business can now optimize inventory purchases with a 1-month lead time.\n",
    "\n",
    "### Risks & Limitations\n",
    "\n",
    "- **Risk:** Model does not include exogenous variables that are not available in the dataset such as inflation rates, holidays, or transportation costs.\n",
    "- **Limitation:** Only 3 years of data is used for training the model, which may not be enough to capture long-term trends.\n",
    "- **Mitigation:** Add external economic indicators to the data and upon signs of correlation, include them in the model."
   ]
  }
 ],
 "metadata": {
  "language_info": {
   "name": "python"
  }
 },
 "nbformat": 4,
 "nbformat_minor": 2
}
